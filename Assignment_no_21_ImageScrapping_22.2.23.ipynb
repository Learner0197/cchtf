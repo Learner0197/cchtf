{
 "cells": [
  {
   "cell_type": "code",
   "execution_count": 29,
   "metadata": {},
   "outputs": [],
   "source": [
    "from selenium import webdriver\n",
    "from selenium.webdriver.chrome.service import Service\n",
    "from webdriver_manager.chrome import ChromeDriverManager\n",
    "from selenium.webdriver.common.by import By\n",
    "from selenium.webdriver.support.ui import WebDriverWait\n",
    "from selenium.webdriver.support import expected_conditions as EC"
   ]
  },
  {
   "cell_type": "code",
   "execution_count": 30,
   "metadata": {},
   "outputs": [],
   "source": [
    "import pandas as pd\n",
    "import time"
   ]
  },
  {
   "cell_type": "code",
   "execution_count": 31,
   "metadata": {},
   "outputs": [],
   "source": [
    "# Q1. Write a python program to extract the video URL of the first five videos."
   ]
  },
  {
   "cell_type": "code",
   "execution_count": 32,
   "metadata": {},
   "outputs": [],
   "source": [
    "channel_url = 'https://www.youtube.com/@PW-Foundation/videos'"
   ]
  },
  {
   "cell_type": "code",
   "execution_count": 33,
   "metadata": {},
   "outputs": [],
   "source": [
    "driver = webdriver.Chrome(service = Service(\"C:\\\\Users\\\\Shree\\\\Downloads\\\\chromedriver.exe\"))"
   ]
  },
  {
   "cell_type": "code",
   "execution_count": 34,
   "metadata": {},
   "outputs": [],
   "source": [
    "driver.get(channel_url)"
   ]
  },
  {
   "cell_type": "code",
   "execution_count": 35,
   "metadata": {},
   "outputs": [],
   "source": [
    "#Q1. Write a python program to extract the video URL of the first five videos.\n",
    "\n",
    "\n",
    "video_url = driver.find_elements(By.XPATH ,'//*[@id=\"dismissible\"]/ytd-thumbnail/a')\n"
   ]
  },
  {
   "cell_type": "code",
   "execution_count": 36,
   "metadata": {},
   "outputs": [
    {
     "name": "stdout",
     "output_type": "stream",
     "text": [
      "https://www.youtube.com/watch?v=WObRrneLVRY\n",
      "https://www.youtube.com/watch?v=nX5ONgCdLcc\n",
      "https://www.youtube.com/watch?v=AM2Dt7cNebw\n",
      "https://www.youtube.com/watch?v=7nMJVhey9TM\n",
      "https://www.youtube.com/watch?v=FSVVlcFUCMk\n"
     ]
    }
   ],
   "source": [
    "video_data = []\n",
    "\n",
    "for i in range(5):\n",
    "    print(video_url[i].get_attribute('href'))\n",
    "    video_data.append(i)"
   ]
  },
  {
   "cell_type": "code",
   "execution_count": 37,
   "metadata": {},
   "outputs": [],
   "source": [
    "#Q2. Write a python program to extract the URL of the video thumbnails of the first five videos.\n",
    "\n",
    "\n",
    "thumbnails =  driver.find_elements(By.XPATH, '//*[@id=\"thumbnail\"]/yt-image/img')"
   ]
  },
  {
   "cell_type": "code",
   "execution_count": 38,
   "metadata": {},
   "outputs": [
    {
     "name": "stdout",
     "output_type": "stream",
     "text": [
      "background-color: transparent;\n",
      "background-color: transparent;\n",
      "background-color: transparent;\n",
      "background-color: transparent;\n",
      "background-color: transparent;\n"
     ]
    }
   ],
   "source": [
    "thumbnail_data = []\n",
    "\n",
    "for i in range(5):\n",
    "    print(thumbnails[i].get_attribute(\"style\"))\n",
    "    thumbnail_data.append(i)"
   ]
  },
  {
   "cell_type": "code",
   "execution_count": 39,
   "metadata": {},
   "outputs": [
    {
     "name": "stdout",
     "output_type": "stream",
     "text": [
      "yt-core-image--fill-parent-height yt-core-image--fill-parent-width yt-core-image yt-core-image--content-mode-scale-aspect-fill yt-core-image--loaded\n",
      "yt-core-image--fill-parent-height yt-core-image--fill-parent-width yt-core-image yt-core-image--content-mode-scale-aspect-fill yt-core-image--loaded\n",
      "yt-core-image--fill-parent-height yt-core-image--fill-parent-width yt-core-image yt-core-image--content-mode-scale-aspect-fill\n",
      "yt-core-image--fill-parent-height yt-core-image--fill-parent-width yt-core-image yt-core-image--content-mode-scale-aspect-fill\n",
      "yt-core-image--fill-parent-height yt-core-image--fill-parent-width yt-core-image yt-core-image--content-mode-scale-aspect-fill\n"
     ]
    }
   ],
   "source": [
    "thumbnail_data = []\n",
    "\n",
    "for i in range(5):\n",
    "    print(thumbnails[i].get_attribute(\"class\"))\n",
    "    thumbnail_data.append(i)"
   ]
  },
  {
   "cell_type": "code",
   "execution_count": 40,
   "metadata": {},
   "outputs": [
    {
     "name": "stdout",
     "output_type": "stream",
     "text": [
      "https://i.ytimg.com/vi/WObRrneLVRY/hqdefault.jpg?sqp=-oaymwEcCNACELwBSFXyq4qpAw4IARUAAIhCGAFwAcABBg==&rs=AOn4CLCqLiupYz7LnumRPGXvHnYf4ncbrQ\n",
      "https://i.ytimg.com/vi/nX5ONgCdLcc/hqdefault.jpg?sqp=-oaymwEcCNACELwBSFXyq4qpAw4IARUAAIhCGAFwAcABBg==&rs=AOn4CLBaa_KLfKyYbUYRsb5xf0YCp1YrlQ\n",
      "None\n",
      "None\n",
      "None\n"
     ]
    }
   ],
   "source": [
    "thumbnail_data = []\n",
    "\n",
    "for i in range(5):\n",
    "    print(thumbnails[i].get_attribute(\"src\"))\n",
    "    thumbnail_data.append(i)"
   ]
  },
  {
   "cell_type": "code",
   "execution_count": 41,
   "metadata": {},
   "outputs": [],
   "source": [
    "#Q3. Write a python program to extract the title of the first five videos.\n",
    "\n",
    "\n",
    "titles = driver.find_elements(By.ID,\"video-title\")"
   ]
  },
  {
   "cell_type": "code",
   "execution_count": 42,
   "metadata": {},
   "outputs": [
    {
     "name": "stdout",
     "output_type": "stream",
     "text": [
      "आपको Commerce में क्या सीखने को मिलता है ?? Complete Information\n",
      "How to Attempt English Board Exam ????\n",
      "Best technique to attempt SST paper in Board exam || Class 10th\n",
      "Last Minute Strategy To Score More Than 98% || ICSE Boards || Class-10th\n",
      "Why You Should Choose Commerce After 10th? || Complete Information💯\n"
     ]
    }
   ],
   "source": [
    "title_data = []\n",
    "\n",
    "for i in range(5):\n",
    "    print(titles[i].text)\n",
    "    title_data.append(i)"
   ]
  },
  {
   "cell_type": "code",
   "execution_count": 43,
   "metadata": {},
   "outputs": [],
   "source": [
    "#Q4. Write a python program to extract the number of views of the first five videos.\n",
    "\n",
    "\n",
    "total_views = driver.find_elements(By.XPATH,'//*[@id=\"metadata-line\"]/span[1]')"
   ]
  },
  {
   "cell_type": "code",
   "execution_count": 44,
   "metadata": {},
   "outputs": [
    {
     "name": "stdout",
     "output_type": "stream",
     "text": [
      "8.6K views\n",
      "183K views\n",
      "57K views\n",
      "23K views\n",
      "29K views\n"
     ]
    }
   ],
   "source": [
    "views_data = []\n",
    "\n",
    "for i in range(5):\n",
    "    print(total_views[i].text)\n",
    "    views_data.append(i)"
   ]
  },
  {
   "cell_type": "code",
   "execution_count": 45,
   "metadata": {},
   "outputs": [],
   "source": [
    "#Q5. Write a python program to extract the time of posting of video for the first five videos.\n",
    "\n",
    "\n",
    "posting_time = driver.find_elements(By.XPATH,'//*[@id=\"metadata-line\"]/span[2]')"
   ]
  },
  {
   "cell_type": "code",
   "execution_count": 46,
   "metadata": {},
   "outputs": [
    {
     "name": "stdout",
     "output_type": "stream",
     "text": [
      "23 hours ago\n",
      "4 days ago\n",
      "5 days ago\n",
      "6 days ago\n",
      "7 days ago\n"
     ]
    }
   ],
   "source": [
    "time_data = []\n",
    "\n",
    "for i in range(5):\n",
    "    print(posting_time[i].text)\n",
    "    time_data.append(i)"
   ]
  },
  {
   "cell_type": "raw",
   "metadata": {},
   "source": [
    "data = []\n",
    "\n",
    "for i,j,k,l,m in zip(video_url, thumbnails, titles, total_views, posting_time):\n",
    "    data.append([i.get_attribute('href'), j.get_attribute('src'), k.text,  l.text, m.text])"
   ]
  },
  {
   "cell_type": "raw",
   "metadata": {
    "tags": []
   },
   "source": [
    "#Note: Save all the data scraped in the above questions in a CSV file.\n",
    "\n",
    "df = pd.DataFrame (data, columns = [\"Video URL\", \"Thumbnail\", \"Title\", \"Views\", \"Time of Posting\"])\n",
    "\n",
    "df.to_csv(\"PWFoundations_Video_Details.csv\")"
   ]
  },
  {
   "cell_type": "code",
   "execution_count": 47,
   "metadata": {},
   "outputs": [],
   "source": [
    "driver.quit()"
   ]
  },
  {
   "cell_type": "code",
   "execution_count": null,
   "metadata": {},
   "outputs": [],
   "source": []
  },
  {
   "cell_type": "code",
   "execution_count": null,
   "metadata": {},
   "outputs": [],
   "source": []
  },
  {
   "cell_type": "code",
   "execution_count": null,
   "metadata": {},
   "outputs": [],
   "source": []
  },
  {
   "cell_type": "code",
   "execution_count": null,
   "metadata": {},
   "outputs": [],
   "source": []
  }
 ],
 "metadata": {
  "kernelspec": {
   "display_name": "Python 3 (ipykernel)",
   "language": "python",
   "name": "python3"
  },
  "language_info": {
   "codemirror_mode": {
    "name": "ipython",
    "version": 3
   },
   "file_extension": ".py",
   "mimetype": "text/x-python",
   "name": "python",
   "nbconvert_exporter": "python",
   "pygments_lexer": "ipython3",
   "version": "3.8.16"
  },
  "vscode": {
   "interpreter": {
    "hash": "88279d2366fe020547cde40dd65aa0e3aa662a6ec1f3ca12d88834876c85e1a6"
   }
  }
 },
 "nbformat": 4,
 "nbformat_minor": 2
}
